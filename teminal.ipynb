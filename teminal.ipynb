{
 "cells": [
  {
   "cell_type": "code",
   "execution_count": 2,
   "id": "e56e6da7-4277-44bb-b6ef-0156381558d6",
   "metadata": {},
   "outputs": [],
   "source": [
    "import pandas as pd"
   ]
  },
  {
   "cell_type": "code",
   "execution_count": 3,
   "id": "cd312c57-901a-4f1a-a5e5-ef4d1ad77e44",
   "metadata": {},
   "outputs": [],
   "source": [
    "df = pd.read_csv(\"chocolate_company.csv\")"
   ]
  },
  {
   "cell_type": "code",
   "execution_count": 4,
   "id": "3d704b12-4a36-4420-af02-85d90b11c1ef",
   "metadata": {},
   "outputs": [
    {
     "name": "stdout",
     "output_type": "stream",
     "text": [
      "<class 'pandas.core.frame.DataFrame'>\n",
      "RangeIndex: 1094 entries, 0 to 1093\n",
      "Data columns (total 6 columns):\n",
      " #   Column         Non-Null Count  Dtype \n",
      "---  ------         --------------  ----- \n",
      " 0   Sales Person   1094 non-null   object\n",
      " 1   Country        1094 non-null   object\n",
      " 2   Product        1094 non-null   object\n",
      " 3   Date           1094 non-null   object\n",
      " 4   Amount         1094 non-null   int64 \n",
      " 5   Boxes Shipped  1094 non-null   int64 \n",
      "dtypes: int64(2), object(4)\n",
      "memory usage: 51.4+ KB\n",
      "None\n"
     ]
    }
   ],
   "source": [
    "print(df.info())"
   ]
  },
  {
   "cell_type": "code",
   "execution_count": 6,
   "id": "0201e295-6e50-4448-a61c-e802778094ea",
   "metadata": {},
   "outputs": [
    {
     "name": "stdout",
     "output_type": "stream",
     "text": [
      "     Sales Person    Country              Product        Date  Amount  \\\n",
      "0  Jehu Rudeforth         UK      Mint Chip Choco  01/04/2022    5320   \n",
      "1     Van Tuxwell      India        85% Dark Bars  08/01/2022    7896   \n",
      "2    Gigi Bohling      India  Peanut Butter Cubes  07/07/2022    4501   \n",
      "3    Jan Morforth  Australia  Peanut Butter Cubes  04/27/2022   12726   \n",
      "4  Jehu Rudeforth         UK  Peanut Butter Cubes  02/24/2022   13685   \n",
      "\n",
      "   Boxes Shipped  \n",
      "0            180  \n",
      "1             94  \n",
      "2             91  \n",
      "3            342  \n",
      "4            184  \n"
     ]
    }
   ],
   "source": [
    "print(df.head())"
   ]
  },
  {
   "cell_type": "code",
   "execution_count": 7,
   "id": "06e53d97-d29f-419e-9c3a-6263ccd7ef45",
   "metadata": {},
   "outputs": [
    {
     "name": "stdout",
     "output_type": "stream",
     "text": [
      "missing value before\n",
      " <bound method DataFrame.sum of       Sales Person  Country  Product   Date  Amount  Boxes Shipped\n",
      "0            False    False    False  False   False          False\n",
      "1            False    False    False  False   False          False\n",
      "2            False    False    False  False   False          False\n",
      "3            False    False    False  False   False          False\n",
      "4            False    False    False  False   False          False\n",
      "...            ...      ...      ...    ...     ...            ...\n",
      "1089         False    False    False  False   False          False\n",
      "1090         False    False    False  False   False          False\n",
      "1091         False    False    False  False   False          False\n",
      "1092         False    False    False  False   False          False\n",
      "1093         False    False    False  False   False          False\n",
      "\n",
      "[1094 rows x 6 columns]>\n"
     ]
    }
   ],
   "source": [
    "print(\"missing value before\\n\",df.isnull().sum)"
   ]
  },
  {
   "cell_type": "code",
   "execution_count": 8,
   "id": "d9da11af-f14f-49a4-9fa5-8c5d20141089",
   "metadata": {},
   "outputs": [],
   "source": [
    "df = df.dropna()"
   ]
  },
  {
   "cell_type": "code",
   "execution_count": 9,
   "id": "1d6ad55b-721c-47c1-b1cd-caa56f1aed33",
   "metadata": {},
   "outputs": [
    {
     "name": "stdout",
     "output_type": "stream",
     "text": [
      "duplicates before \n",
      " <bound method Series.sum of 0       False\n",
      "1       False\n",
      "2       False\n",
      "3       False\n",
      "4       False\n",
      "        ...  \n",
      "1089    False\n",
      "1090    False\n",
      "1091    False\n",
      "1092    False\n",
      "1093    False\n",
      "Length: 1094, dtype: bool>\n"
     ]
    }
   ],
   "source": [
    "print(\"duplicates before \\n\",df.duplicated().sum)"
   ]
  },
  {
   "cell_type": "code",
   "execution_count": 10,
   "id": "51f16b58-55e7-4210-9fff-ceb2bc29e686",
   "metadata": {},
   "outputs": [],
   "source": [
    "df = df.drop_duplicates()"
   ]
  },
  {
   "cell_type": "code",
   "execution_count": 11,
   "id": "651259e9-f5e6-4d6a-ae31-4585b56d036a",
   "metadata": {},
   "outputs": [
    {
     "name": "stdout",
     "output_type": "stream",
     "text": [
      "<class 'pandas.core.frame.DataFrame'>\n",
      "RangeIndex: 1094 entries, 0 to 1093\n",
      "Data columns (total 6 columns):\n",
      " #   Column         Non-Null Count  Dtype \n",
      "---  ------         --------------  ----- \n",
      " 0   Sales Person   1094 non-null   object\n",
      " 1   Country        1094 non-null   object\n",
      " 2   Product        1094 non-null   object\n",
      " 3   Date           1094 non-null   object\n",
      " 4   Amount         1094 non-null   int64 \n",
      " 5   Boxes Shipped  1094 non-null   int64 \n",
      "dtypes: int64(2), object(4)\n",
      "memory usage: 51.4+ KB\n",
      "None\n"
     ]
    }
   ],
   "source": [
    "print(df.info())"
   ]
  },
  {
   "cell_type": "code",
   "execution_count": 12,
   "id": "b9320ac8-5b7b-4328-873a-69687ecb5644",
   "metadata": {},
   "outputs": [
    {
     "name": "stdout",
     "output_type": "stream",
     "text": [
      "     Sales Person    Country              Product        Date  Amount  \\\n",
      "0  Jehu Rudeforth         UK      Mint Chip Choco  01/04/2022    5320   \n",
      "1     Van Tuxwell      India        85% Dark Bars  08/01/2022    7896   \n",
      "2    Gigi Bohling      India  Peanut Butter Cubes  07/07/2022    4501   \n",
      "3    Jan Morforth  Australia  Peanut Butter Cubes  04/27/2022   12726   \n",
      "4  Jehu Rudeforth         UK  Peanut Butter Cubes  02/24/2022   13685   \n",
      "\n",
      "   Boxes Shipped  \n",
      "0            180  \n",
      "1             94  \n",
      "2             91  \n",
      "3            342  \n",
      "4            184  \n"
     ]
    }
   ],
   "source": [
    "print(df.head())"
   ]
  },
  {
   "cell_type": "code",
   "execution_count": 13,
   "id": "d5cd6085-4c01-4dce-ad63-6ce6cac814b9",
   "metadata": {},
   "outputs": [],
   "source": [
    "df.to_csv(\"chocolate_company_data_cleaned.csv\" , index =False)"
   ]
  },
  {
   "cell_type": "code",
   "execution_count": 14,
   "id": "0a9c94e8-364e-4d6e-bf72-d204926dcf3f",
   "metadata": {},
   "outputs": [
    {
     "name": "stdout",
     "output_type": "stream",
     "text": [
      "     Sales Person    Country              Product        Date  Amount  \\\n",
      "0  Jehu Rudeforth         UK      Mint Chip Choco  01/04/2022    5320   \n",
      "1     Van Tuxwell      India        85% Dark Bars  08/01/2022    7896   \n",
      "2    Gigi Bohling      India  Peanut Butter Cubes  07/07/2022    4501   \n",
      "3    Jan Morforth  Australia  Peanut Butter Cubes  04/27/2022   12726   \n",
      "4  Jehu Rudeforth         UK  Peanut Butter Cubes  02/24/2022   13685   \n",
      "\n",
      "   Boxes Shipped  \n",
      "0            180  \n",
      "1             94  \n",
      "2             91  \n",
      "3            342  \n",
      "4            184  \n"
     ]
    }
   ],
   "source": [
    "print(df.head())"
   ]
  },
  {
   "cell_type": "code",
   "execution_count": null,
   "id": "1cacddc6-335f-4f2b-92ab-ddb0c0fc7290",
   "metadata": {},
   "outputs": [],
   "source": []
  }
 ],
 "metadata": {
  "kernelspec": {
   "display_name": "Python 3 (ipykernel)",
   "language": "python",
   "name": "python3"
  },
  "language_info": {
   "codemirror_mode": {
    "name": "ipython",
    "version": 3
   },
   "file_extension": ".py",
   "mimetype": "text/x-python",
   "name": "python",
   "nbconvert_exporter": "python",
   "pygments_lexer": "ipython3",
   "version": "3.13.5"
  }
 },
 "nbformat": 4,
 "nbformat_minor": 5
}
